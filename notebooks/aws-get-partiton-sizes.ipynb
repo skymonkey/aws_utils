{
 "cells": [
  {
   "cell_type": "markdown",
   "metadata": {},
   "source": [
    "## Get the size of individual partitions in S3 and plot them\n",
    "\n",
    "This notebook requests the size of individual folders in s3, partitioned by day, via a call to the aws-cli. The size of the partition is extracted from the response and added to a dictionary using the partition date as the key. \n",
    "\n",
    "\n",
    "**Don't forget to login to the correct AWS account via scloud first**\n"
   ]
  },
  {
   "cell_type": "code",
   "execution_count": 1,
   "metadata": {},
   "outputs": [],
   "source": [
    "# Generate a set of date partitions. \n",
    "# Iterate over these, making an aws-cli request on a partition-by-partition basis.\n",
    "\n",
    "from pandas import date_range\n",
    "import os\n",
    "partitions = date_range(start='2014-01', end=\"2019-01\")\n",
    "partitions = [day.strftime(\"%Y-%m-%d\") for day in partitions]"
   ]
  },
  {
   "cell_type": "code",
   "execution_count": 2,
   "metadata": {},
   "outputs": [],
   "source": [
    "# The base command. You can extract the path template if you want\n",
    "aws_ls = \"aws s3 ls --summarize --recursive s3://my_bucket/partition={}\"\n"
   ]
  },
  {
   "cell_type": "code",
   "execution_count": 3,
   "metadata": {},
   "outputs": [],
   "source": [
    "# Response contains this 'Total Size: 6766004'. \n",
    "# I used two pipes to extract this, as I couldn't \n",
    "# get the grouping to work in MacOs.\n",
    "\n",
    "pipe_grep_size = \"| egrep -o 'Size\\: ([0-9]+)'\"\n",
    "pipe_grep_mib = \"| egrep  -o '[0-9]+'\""
   ]
  },
  {
   "cell_type": "code",
   "execution_count": 7,
   "metadata": {},
   "outputs": [],
   "source": [
    "def compose_command(partition,\n",
    "                   pipe_1,\n",
    "                   pipe_2):\n",
    " \n",
    "    cmd = \"{}{}{}\".format(ls_aws_partition,\n",
    "                          pipe_grep_size,\n",
    "                          pipe_grep_mib\n",
    "                             ) \n",
    "    return cmd"
   ]
  },
  {
   "cell_type": "code",
   "execution_count": null,
   "metadata": {},
   "outputs": [],
   "source": [
    "# Iterates over the partitions, requesting a summary of each via aws-cli.\n",
    "# Size of partition in MiB is extracted and added to a dictionary, using \n",
    "# the partition date as key.\n",
    "#\n",
    "# Prints out every 100th partition, just so you know where you are.\n",
    "\n",
    "partition_sizes = {}\n",
    "for idx, p in enumerate(partitions):\n",
    "    ls_aws_partition = aws_ls.format(p)\n",
    "    command = compose_command(ls_aws_partition,\n",
    "                              pipe_grep_size,\n",
    "                              pipe_grep_mib)\n",
    "    \n",
    "    executed_cmd = os.popen(command).read()\n",
    "    if (idx % 100 == 0):\n",
    "        print(p) \n",
    "    partition_sizes[p] = float(executed_cmd)\n",
    "   "
   ]
  },
  {
   "cell_type": "markdown",
   "metadata": {},
   "source": [
    "### Plot the results."
   ]
  },
  {
   "cell_type": "code",
   "execution_count": 1,
   "metadata": {},
   "outputs": [],
   "source": [
    "import pickle\n",
    "with open('partition_sizes.pickle', 'rb') as handle:\n",
    "    partition_sizes = pickle.load(handle)\n"
   ]
  },
  {
   "cell_type": "code",
   "execution_count": 2,
   "metadata": {},
   "outputs": [],
   "source": [
    "import matplotlib.pylab as plt\n",
    "\n",
    "# sort by key\n",
    "lists = sorted(partition_sizes.items()) \n",
    "\n",
    "# unpack a list of pairs \n",
    "x, y = zip(*lists[:-1]) \n",
    "\n"
   ]
  },
  {
   "cell_type": "code",
   "execution_count": 3,
   "metadata": {},
   "outputs": [
    {
     "data": {
      "image/png": "[encoded data removed]",
      "text/plain": [
       "<Figure size 432x288 with 1 Axes>"
      ]
     },
     "metadata": {},
     "output_type": "display_data"
    }
   ],
   "source": [
    "plt.figure()\n",
    "ax1 = plt.axes()\n",
    "ax1.plot(x, y)\n",
    "ax1.set_xticks([x[0], x[365], x[365*2], x[365*3+1], x[365*3+366]])\n",
    "ax1.set_xticklabels([\"2014\", \"2015\", \"2016\", \"2017\", \"2018\"])\n",
    "ax1.set_yticklabels([0, 2, 4, 6, 8, 10])\n",
    "ax1.set_ylim(bottom=0)\n",
    "plt.xticks(rotation=280)\n",
    "plt.show()"
   ]
  }
 ],
 "metadata": {
  "kernelspec": {
   "display_name": "Python 3",
   "language": "python",
   "name": "python3"
  },
  "language_info": {
   "codemirror_mode": {
    "name": "ipython",
    "version": 3
   },
   "file_extension": ".py",
   "mimetype": "text/x-python",
   "name": "python",
   "nbconvert_exporter": "python",
   "pygments_lexer": "ipython3",
   "version": "3.6.5"
  }
 },
 "nbformat": 4,
 "nbformat_minor": 2
}
